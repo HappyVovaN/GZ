{
 "cells": [
  {
   "cell_type": "code",
   "execution_count": 1,
   "id": "cc078ffa",
   "metadata": {},
   "outputs": [
    {
     "name": "stdout",
     "output_type": "stream",
     "text": [
      "[0.0, 26.850000000000023, 0.6925, 8.3412, nan, 61.51]\n"
     ]
    }
   ],
   "source": [
    "import mat_properties as prop\n",
    "import pandas as pd\n",
    "\n",
    "\n",
    "RP = prop.init_REFPROP(r'C:\\Program Files (x86)\\REFPROP')\n",
    "\n",
    "\n",
    "KPDnasos = 0.9\n",
    "\n",
    "water=prop.Materials_prop('water',[1.0,0,0,0,0], prop.REFPROP_h_s,\n",
    "                                              prop.REFPROP_p_t,\n",
    "                                              prop.REFPROP_p_h,\n",
    "                                              prop.REFPROP_p_s,\n",
    "                                              prop.REFPROP_p_q,\n",
    "                                              prop.REFPROP_t_q,\n",
    "                                              RP=RP)\n",
    "\n",
    "#Таблица частичной нагрузки (входные данные)\n",
    "water_streams  = pd.read_excel('streams.xlsx',  sheet_name='water',index_col=0)\n",
    "\n",
    "#----------------------------------------------------\n",
    "class nasos:\n",
    "    def __init__(self,stream11,stream12,water,KPDnasos,water_streams):\n",
    "        self.KPDnasos = KPDnasos\n",
    "        self.P0  = water_streams.at[stream11,'P']\n",
    "        self.P1  = water_streams.at[stream12,'P']\n",
    "        self.T0 = water_streams.at[stream11,'T']\n",
    "        self.G  = water_streams.at[stream11,'G']\n",
    "        self.water=water\n",
    "        \n",
    "    def calc(self):\n",
    "        self.s1teor = self.water.p_t(self.P0,self.T0)['s']\n",
    "        self.h1teornasos = self.water.p_s(self.P1,self.s1teor)['h']\n",
    "        self.h1realnasos = self.water.p_t(self.P0,self.T0)['h']+(self.h1teornasos-self.water.p_t(self.P0,self.T0)['h'])/self.KPDnasos\n",
    "        self.T1nasosCO2=self.water.p_h(self.P1,self.h1realnasos)['T']\n",
    "        T1 = self.T1nasosCO2\n",
    "        Rabota = self.G*(self.h1realnasos - self.water.p_t(self.P0,self.T0)['h'])\n",
    "        return [Rabota,T1,self.P0,self.P1,self.T0,self.G]\n",
    "#-------------------------------------------------------------------------------------------    \n",
    "a=nasos(water,KPDnasos,'BND-PEN','PEN-EVD').calc()\n",
    "print(a)"
   ]
  },
  {
   "cell_type": "code",
   "execution_count": null,
   "id": "32b531c2",
   "metadata": {},
   "outputs": [],
   "source": []
  }
 ],
 "metadata": {
  "kernelspec": {
   "display_name": "Python 3 (ipykernel)",
   "language": "python",
   "name": "python3"
  },
  "language_info": {
   "codemirror_mode": {
    "name": "ipython",
    "version": 3
   },
   "file_extension": ".py",
   "mimetype": "text/x-python",
   "name": "python",
   "nbconvert_exporter": "python",
   "pygments_lexer": "ipython3",
   "version": "3.8.0"
  }
 },
 "nbformat": 4,
 "nbformat_minor": 5
}
