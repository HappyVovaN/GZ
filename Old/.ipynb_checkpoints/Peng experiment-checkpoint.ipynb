{
 "cells": [
  {
   "cell_type": "code",
   "execution_count": 8,
   "id": "45846b5a-7ad7-4603-973e-4223fadc8050",
   "metadata": {},
   "outputs": [
    {
     "data": {
      "text/plain": [
       "633.4983323507729"
      ]
     },
     "execution_count": 8,
     "metadata": {},
     "output_type": "execute_result"
    }
   ],
   "source": [
    "from ctREFPROP.ctREFPROP import REFPROPFunctionLibrary\n",
    "import os\n",
    "import pandas as pd\n",
    "\n",
    "\n",
    "def init_REFPROP(path_to_refplot):\n",
    "    try:\n",
    "        RP = REFPROPFunctionLibrary(os.environ['RPPREFIX'])\n",
    "        #RP = REFPROPFunctionLibrary('/'.join([path_to_refplot, 'REFPROP.dll']))\n",
    "    except ValueError:\n",
    "        print('Не удалось загрузить библиотеку REFPROP, проверьте путь к папке')\n",
    "        return None\n",
    "    else:\n",
    "        RP.SETPATHdll(path_to_refplot)\n",
    "        return RP\n",
    "\n",
    "\n",
    "def REFPROP_p_t(p, t, gas,fraction, RP):\n",
    "    prop = RP.REFPROPdll(gas, 'PT', 'H;S;D;CV;CP;KV;Prandtl;TCX;VIS;Qmass', 21, 0, 0, p, t, fraction)\n",
    "    res = dict()\n",
    "    res['h'] = prop.Output[0]/1000\n",
    "    res['s'] = prop.Output[1]/1000\n",
    "    res['rho'] = prop.Output[2]\n",
    "    res['cp'] = prop.Output[3]\n",
    "    res['cv'] = prop.Output[4]\n",
    "    fraction_local=list(fraction)\n",
    "    if fraction_local[3]>0.05:\n",
    "        fraction_local[2]=fraction_local[2]+fraction_local[3]-0.05\n",
    "        fraction_local[3]=0.05\n",
    "    prop1 = RP.REFPROPdll(gas, 'PT', 'H;S;D;CV;CP;KV;Prandtl;TCX;VIS;Qmass', 21, 0, 0, p, t, fraction_local)\n",
    "    res['nu'] = prop1.Output[5] / 100.\n",
    "    res['Prandtl'] = prop1.Output[6] \n",
    "    res['L'] = prop1.Output[7]\n",
    "    res['Q'] = prop1.Output[9]\n",
    "    return res\n",
    "\n",
    "\n",
    "\n",
    "class Materials_prop:\n",
    "    def __init__(self, mat_name, fraction, pt_func,  *args, **kwargs):\n",
    "        self.__mat_name = mat_name\n",
    "        self.__fraction = fraction\n",
    "        self.__pt_func = pt_func\n",
    "\n",
    "        self.__params = dict()\n",
    "        for key, val in kwargs.items():\n",
    "            self.__params[key] = val\n",
    "\n",
    "    def p_t(self, p, t):\n",
    "        return self.__pt_func(p=p*1e6, t=t+273.15, gas=self.__mat_name,fraction=self.__fraction, **self.__params)\n",
    "\n",
    "RP = init_REFPROP(r'C:\\Program Files (x86)\\REFPROP')\n",
    "gas_streams0   = pd.read_excel('streams0.xlsx', sheet_name='gas',  index_col=0)\n",
    "gasmix = \"Nitrogen*Oxygen*CO2*Water*Argon\"\n",
    "fractiongas0 = (gas_streams0.at['GTU-PEVD','N2'],gas_streams0.at['GTU-PEVD','O2'],gas_streams0.at['GTU-PEVD','CO2'],gas_streams0.at['GTU-PEVD','H2O'],gas_streams0.at['GTU-PEVD','Ar'])\n",
    "gas0 = Materials_prop(gasmix,fractiongas0, REFPROP_p_t,RP=RP)\n",
    "\n",
    "T=250\n",
    "P=0.1\n",
    "H = gas0.p_t(P,T)['h']\n",
    "H"
   ]
  },
  {
   "cell_type": "code",
   "execution_count": null,
   "id": "1147eac5-d8d6-4877-be07-461663f101c8",
   "metadata": {},
   "outputs": [],
   "source": []
  }
 ],
 "metadata": {
  "kernelspec": {
   "display_name": "Python 3 (ipykernel)",
   "language": "python",
   "name": "python3"
  },
  "language_info": {
   "codemirror_mode": {
    "name": "ipython",
    "version": 3
   },
   "file_extension": ".py",
   "mimetype": "text/x-python",
   "name": "python",
   "nbconvert_exporter": "python",
   "pygments_lexer": "ipython3",
   "version": "3.10.6"
  }
 },
 "nbformat": 4,
 "nbformat_minor": 5
}
