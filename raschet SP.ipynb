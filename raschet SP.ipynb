{
 "cells": [
  {
   "cell_type": "code",
   "execution_count": 11,
   "id": "3c91f9d4-2eb9-493c-9b85-41da4e4ccfed",
   "metadata": {},
   "outputs": [
    {
     "data": {
      "text/plain": [
       "{'p_otb': 0.13219638630275696, 'Gotb': 43.9162988538204}"
      ]
     },
     "execution_count": 11,
     "metadata": {},
     "output_type": "execute_result"
    }
   ],
   "source": [
    "#Готовые классы по расчету температур сред на выходе из охладителя дренажа\n",
    "# температуре воды на выходе из СП1 и расходу пара в отбор СП1\n",
    "# давлению в отборе на СП2 и расходу в отбор\n",
    "\n",
    "import SP\n",
    "import mat_properties as prop\n",
    "import numpy as n\n",
    "import pandas as pd  \n",
    "\n",
    "#таблица номинального режима\n",
    "gas_streams0   = pd.read_excel('streams0.xlsx', sheet_name='gas',  index_col=0)\n",
    "water_streams0 = pd.read_excel('streams0.xlsx', sheet_name='water',index_col=0)\n",
    "#таблица задаваемых значений (заменится на интерфейс)\n",
    "gas_streams    = pd.read_excel('streams.xlsx',  sheet_name='gas',  index_col=0)\n",
    "water_streams  = pd.read_excel('streams.xlsx',  sheet_name='water',index_col=0)\n",
    "\n",
    "calctolerance=10**-3\n",
    "calcmethod = \"hybr\"\n",
    "KPD_SP=0.99 #эффективность сетевых подогревателей\n",
    "RP = prop.init_REFPROP(r'C:\\Program Files (x86)\\REFPROP')\n",
    "water=prop.Materials_prop('water',[1.0,0,0,0,0], prop.REFPROP_h_s,prop.REFPROP_p_t,prop.REFPROP_p_h,prop.REFPROP_p_s,prop.REFPROP_p_q,prop.REFPROP_t_q,RP=RP)\n",
    "\n",
    "\n",
    "OD = SP.od('SP1-OD','OD-GPK','SWIN-OD','OD-SP1',    \n",
    "                    KPD_SP,calctolerance,water,calcmethod,water_streams0,water_streams)\n",
    "OD_res=OD.calc()    \n",
    "SP1 = SP.sp1('OTB1-SP1','SP1-OD','WIN-SP1','SP1-SP2','SP2-SP1',    \n",
    "                    KPD_SP,calctolerance,water,calcmethod,water_streams0,water_streams)\n",
    "SP1_res=SP1.calc() \n",
    "SP2 = SP.sp2('OTB2-SP2','SP2-SP1','SP1-SP2','SP2-WOUT',    \n",
    "                    KPD_SP,calctolerance,water,calcmethod,water_streams0,water_streams)\n",
    "SP2_res=SP2.calc()\n",
    "SP2_res"
   ]
  },
  {
   "cell_type": "code",
   "execution_count": 13,
   "id": "48ba8dcc-8c55-4daa-aabe-ad6db8745646",
   "metadata": {},
   "outputs": [
    {
     "name": "stdout",
     "output_type": "stream",
     "text": [
      "<mat_properties.Materials_prop object at 0x0000024C28A5FF40>\n"
     ]
    }
   ],
   "source": [
    "import numpy as n\n",
    "import mat_properties as prop\n",
    "RP = prop.init_REFPROP(r'C:\\Program Files (x86)\\REFPROP')\n",
    "water=prop.Materials_prop('water',[1.0,0,0,0,0], prop.REFPROP_h_s,prop.REFPROP_p_t,prop.REFPROP_p_h,prop.REFPROP_p_s,prop.REFPROP_p_q,prop.REFPROP_t_q,RP=RP)\n",
    "\n",
    "#Достаю данные о теплообменниках из расчетного режима работы СП\n",
    "Cp=4.187\n",
    "#Psv=1 #давление сетевой воды\n",
    "Qsp1_0=64.062*Cp/3.6 #нагрузка ПСГ-2 (расчетная точка)\n",
    "Qsp2_0=82.397*Cp/3.6 #нагрузка ПСГ-1 (расчетная точка)\n",
    "Qod_0=6.81*Cp/3.6 #нагрузка охладителя дренажа (расчетная точка)\n",
    "t_0=-3.1 #температура расчетная наружного воздуха\n",
    "tw2_0=98.56 #температура прямой сетевой воды (расчетная точка)\n",
    "tw1_0=46 #температура обратной сетевой воды (расчетная точка)\n",
    "Gsv_0=2886/3.6 #расход сетевой воды (расчетная точка)\n",
    "KPD_SP=0.99 #эффективность сетевых подогревателей\n",
    "Gsp2_0=157.44/3.6 #расход пара в ПСГ-2 (расчетная точка)\n",
    "Gsp1_0=115.71/3.6 #расход пара в ПСГ-1 (расчетная точка)\n",
    "tsp2_0=107.6 #температура пара в отборе на ПСГ-2 (расчетная точка)\n",
    "tsp1_0=76 #температура пара в отборе на ПСГ-1 (расчетная точка)\n",
    "ysp2_0=2.9/100 #доля влаги в  отборе на ПСГ-2 (расчетная точка)\n",
    "ysp1_0=7.4/100 #доля влаги в  отборе на ПСГ-1 (расчетная точка)\n",
    "dP=5/100 # потеря давления в паропроводах\n",
    "Qw_0=Gsv_0*Cp*(tw2_0-tw1_0)/1000\n",
    "\n",
    "Otb_sp2=water.t_q(tsp2_0,1-ysp2_0)\n",
    "h_otbsp2_0=Otb_sp2['h']\n",
    "p_otbsp2_0=Otb_sp2['P']\n",
    "Otb_sp1_0=water.t_q(tsp1_0,1-ysp1_0)\n",
    "h_otbsp1_0=Otb_sp1_0['h']\n",
    "p_otbsp1_0=Otb_sp1_0['P']\n",
    "\n",
    "Qsp2w_0=KPD_SP*Qsp2_0\n",
    "Qsp1w_0=KPD_SP*(Qsp1_0)\n",
    "Qodw_0=KPD_SP*Qod_0\n",
    "\n",
    "p_sp2_0=(1-dP)*p_otbsp2_0\n",
    "p_sp1_0=(1-dP)*p_otbsp1_0\n",
    "Sp2_nas_0=water.p_q(p_sp2_0,0)\n",
    "tsp2_0=Sp2_nas_0['T']\n",
    "hsp2_nas_0=Sp2_nas_0['h']\n",
    "Sp1_nas_0=water.p_q(p_sp1_0,0)\n",
    "tsp1_0=Sp1_nas_0['T']\n",
    "hsp1_nas_0=Sp1_nas_0['h']\n",
    "\n",
    "\n",
    "tsp2_in_0=tw2_0-Qsp2w_0*1000/Gsv_0/Cp\n",
    "tsp1_in_0=tw1_0+(Qodw_0)*1000/Gsv_0/Cp\n",
    "\n",
    "deltasp1=tsp1_0-tsp2_in_0\n",
    "deltasp2=tsp2_0-tw2_0\n",
    "#Основная характеристика получена\n",
    "KF_sp2=Gsv_0*Cp*n.log((tsp2_0-tsp2_in_0)/(tsp2_0-tw2_0))\n",
    "KF_sp1=Gsv_0*Cp*n.log((tsp1_0-tsp1_in_0)/(tsp1_0-tsp2_in_0))\n",
    "\n",
    "#Проверка\n",
    "delt2=n.exp(-KF_sp2/Gsv_0/Cp)*(tsp2_0-tsp2_in_0)\n",
    "delt1=n.exp(-KF_sp1/Gsv_0/Cp)*(tsp1_0-tsp1_in_0)\n",
    "h_otbsp2_0\n",
    "print(water)"
   ]
  },
  {
   "cell_type": "code",
   "execution_count": 3,
   "id": "7e264cae-9960-41c4-9bbf-c24910064c4f",
   "metadata": {},
   "outputs": [
    {
     "data": {
      "text/plain": [
       "49.8395111307518"
      ]
     },
     "execution_count": 3,
     "metadata": {},
     "output_type": "execute_result"
    }
   ],
   "source": [
    "#Расчет данных для охладителя дренажа\n",
    "delta_0=10 #задаемся недогревом на холодном конце, чтобы оценить расход\n",
    "tsp1_0 #температура горячего потока на входе \n",
    "G_dr_0=Gsp2_0+Gsp1_0 #расход греющего потока\n",
    "tw1_0 #температура холодного потока на входе\n",
    "tod_out_0=tsp1_0-delta_0 #температура холодного потока на выходе\n",
    "tdr2_0=tsp1_0-Qod_0*1000/G_dr_0/Cp\n",
    "\n",
    "deltat=((tsp1_0-tod_out_0)-(tdr2_0-tw1_0))/n.log((tsp1_0-tod_out_0)/(tdr2_0-tw1_0))\n",
    "F=n.sqrt((tsp1_0-tdr2_0)*(tod_out_0-tw1_0))/deltat\n",
    "#Соотношение расходов \n",
    "\n",
    "\n",
    "tsp1_0-tdr2_0\n",
    "\n",
    "God_0=Qod_0*1000/Cp/(tod_out_0-tw1_0)\n",
    "God_0/G_dr_0\n",
    "#(tsp1_0-tdr2_0)/(tod_out_0-tw1_0)\n",
    "dGod_0=God_0/Gsv_0 # доля расхода воды в ОД\n",
    "dGod_0\n",
    "\n",
    "tsp1_0\n",
    "tdr2_0"
   ]
  },
  {
   "cell_type": "code",
   "execution_count": 4,
   "id": "81a7b2f9-65e5-41f7-88fd-8c99e55fc457",
   "metadata": {},
   "outputs": [
    {
     "data": {
      "text/plain": [
       "50.27861911361308"
      ]
     },
     "execution_count": 4,
     "metadata": {},
     "output_type": "execute_result"
    }
   ],
   "source": [
    "#поверочный расчет ОД\n",
    "Gdr=75.875\n",
    "God=100\n",
    "tdr_in=74.77\n",
    "tw_in=46\n",
    "F=F\n",
    "Delta=tdr_in-tw_in\n",
    "epsilon=min(0.999, 1/(0.35*min(Gdr,God)/max(Gdr,God)+0.65+1/F*n.sqrt(min(Gdr,God)/max(Gdr,God))))\n",
    "epsilon\n",
    "Q=epsilon*min(Gdr,God)*Cp*Delta/1000\n",
    "\n",
    "tod_out=tw_in+Q*1000/God/Cp\n",
    "tdr_out=tdr_in-Q*1000/Gdr/Cp\n",
    "tdr_out"
   ]
  },
  {
   "cell_type": "code",
   "execution_count": 5,
   "id": "114ef151-384c-480f-9b30-d9210045ee1b",
   "metadata": {},
   "outputs": [
    {
     "name": "stdout",
     "output_type": "stream",
     "text": [
      "100.776730953489\n"
     ]
    },
    {
     "data": {
      "text/plain": [
       "[50.21452868443271, 64.48786290685057]"
      ]
     },
     "execution_count": 5,
     "metadata": {},
     "output_type": "execute_result"
    }
   ],
   "source": [
    "#делаю класс охладителя дренажа СП\n",
    "import mat_properties as prop\n",
    "import numpy as n\n",
    "\n",
    "class OD:\n",
    "    def __init__(self,stream11,stream12,stream21,stream22,KPD,calctolerance,water,calcmethod,water_streams0,water_streams):\n",
    "        self.KPD=KPD\n",
    "        self.water_streams0=water_streams0\n",
    "        self.gas_streams=gas_streams\n",
    "        self.water_streams=water_streams\n",
    "        self.calcmethod=calcmethod\n",
    "        self.calctolerance=calctolerance\n",
    "        self.stream11=stream11\n",
    "        self.stream21=stream21\n",
    "        self.stream12=stream12\n",
    "        self.stream22=stream22\n",
    "        delta_0=10 #задаемся недогревом на холодном конце, чтобы оценить расход        \n",
    "        self.Cp=4.187\n",
    "        Qod_0=6.81*self.Cp/3.6 #нагрузка охладителя дренажа (расчетная точка)\n",
    "        tdr_in_0 = water_streams0.at[self.stream11,'T'] #температура горячего потока на входе \n",
    "        G_dr_0=water_streams0.at[self.stream11,'G'] #расход греющего потока\n",
    "        tw1_0= water_streams0.at[self.stream21,'T']#температура холодного потока на входе\n",
    "        tod_out_0=tdr_in_0-delta_0 #температура холодного потока на выходе\n",
    "        tdr2_0=tdr_in_0-Qod_0*1000/G_dr_0/self.Cp\n",
    "        deltat=((tdr_in_0-tod_out_0)-(tdr2_0-tw1_0))/n.log((tdr_in_0-tod_out_0)/(tdr2_0-tw1_0))\n",
    "        self.F=n.sqrt((tdr_in_0-tdr2_0)*(tod_out_0-tw1_0))/deltat\n",
    "    def calc(self):\n",
    "        Gdr = water_streams.at[self.stream11,'G']\n",
    "        God = water_streams.at[self.stream21,'G']\n",
    "        tdr_in = water_streams.at[self.stream11,'T']\n",
    "        tw_in = water_streams.at[self.stream21,'T']\n",
    "        Delta=tdr_in-tw_in\n",
    "        epsilon=min(0.999, 1/(0.35*min(Gdr,God)/max(Gdr,God)+0.65+1/self.F*n.sqrt(min(Gdr,God)/max(Gdr,God))))\n",
    "        Q=epsilon*min(Gdr,God)*self.Cp*Delta/1000\n",
    "        tod_out=tw_in+Q*1000/God/self.Cp\n",
    "        tdr_out=tdr_in-Q*1000/Gdr/self.Cp\n",
    "        print(God)\n",
    "        return [tdr_out,tod_out]\n",
    "    \n",
    "import pandas as pd   \n",
    "#таблица номинального режима\n",
    "gas_streams0   = pd.read_excel('streams0.xlsx', sheet_name='gas',  index_col=0)\n",
    "water_streams0 = pd.read_excel('streams0.xlsx', sheet_name='water',index_col=0)\n",
    "#таблица задаваемых значений (заменится на интерфейс)\n",
    "gas_streams    = pd.read_excel('streams.xlsx',  sheet_name='gas',  index_col=0)\n",
    "water_streams  = pd.read_excel('streams.xlsx',  sheet_name='water',index_col=0)\n",
    "\n",
    "calctolerance=10**-3\n",
    "calcmethod = \"hybr\"\n",
    "KPD_SP=0.99 #эффективность сетевых подогревателей\n",
    "RP = prop.init_REFPROP(r'C:\\Program Files (x86)\\REFPROP')\n",
    "water=prop.Materials_prop('water',[1.0,0,0,0,0], prop.REFPROP_h_s,prop.REFPROP_p_t,prop.REFPROP_p_h,prop.REFPROP_p_s,prop.REFPROP_p_q,prop.REFPROP_t_q,RP=RP)\n",
    "\n",
    "\n",
    "OD = OD('SP1-OD','OD-GPK','SWIN-OD','OD-SP1',    \n",
    "                    KPD_SP,calctolerance,water,calcmethod,water_streams0,water_streams)\n",
    "PPND_res=OD.calc()    \n",
    "PPND_res"
   ]
  },
  {
   "cell_type": "code",
   "execution_count": 6,
   "id": "5540a7c0-6181-481b-a5a2-705372918080",
   "metadata": {},
   "outputs": [
    {
     "name": "stdout",
     "output_type": "stream",
     "text": [
      "0.16675015615081362\n"
     ]
    },
    {
     "data": {
      "text/plain": [
       "44.21785046091928"
      ]
     },
     "execution_count": 6,
     "metadata": {},
     "output_type": "execute_result"
    }
   ],
   "source": [
    "#поверочный расчет СП2\n",
    "dP=5/100 # потеря давления в паропроводах\n",
    "Gsv=800\n",
    "tw_in=70\n",
    "tw_out=98.56\n",
    "KF=6000\n",
    "#p_otb_sp=\n",
    "h_otb_sp=2622.54964\n",
    "#p_sp1_0=(1-dP)*p_otb_sp\n",
    "\n",
    "m=n.exp(-KF/Gsv/Cp)\n",
    "print(m)\n",
    "tsp=(tw_out-tw_in*m)/(1-m)\n",
    "Nas_sp=water.t_q(tsp,0)\n",
    "hsp_nas=Nas_sp['h']\n",
    "p_sp=Nas_sp['P']\n",
    "p_otb=p_sp/(1-dP)\n",
    "Qsp=Gsv*Cp*(tw_out-tw_in)/KPD_SP/1000\n",
    "Gotb=Qsp*1000/(h_otb_sp-hsp_nas)\n",
    "Gotb"
   ]
  },
  {
   "cell_type": "code",
   "execution_count": 7,
   "id": "001bb1be-aa5e-4de3-8b96-a22beb0edb67",
   "metadata": {},
   "outputs": [
    {
     "name": "stdout",
     "output_type": "stream",
     "text": [
      "2622.54964649625\n"
     ]
    },
    {
     "data": {
      "text/plain": [
       "[0.13219638630275696, 43.9162988538204]"
      ]
     },
     "execution_count": 7,
     "metadata": {},
     "output_type": "execute_result"
    }
   ],
   "source": [
    "#делаю класс СП2 (верхний отбор по пару, второй по воде)\n",
    "\n",
    "import mat_properties as prop\n",
    "import numpy as n\n",
    "\n",
    "class SP2:\n",
    "    def __init__(self,stream11,stream12,stream21,stream22,KPD,calctolerance,water,calcmethod,water_streams0,water_streams):\n",
    "        self.KPD=KPD\n",
    "        self.water_streams0=water_streams0\n",
    "        self.gas_streams=gas_streams\n",
    "        self.water_streams=water_streams\n",
    "        self.calcmethod=calcmethod\n",
    "        self.calctolerance=calctolerance\n",
    "        self.stream11=stream11\n",
    "        self.stream21=stream21\n",
    "        self.stream12=stream12\n",
    "        self.stream22=stream22\n",
    "        self.Cp=4.187\n",
    "        self.dP=5/100\n",
    "        tsp2_0=water_streams0.at[self.stream12,'T'] #температура насыщения в номинале \n",
    "        tsp2_in_0 = water_streams0.at[self.stream21,'T'] #температура холодного поткоа на входе в номинале \n",
    "        tw2_0 = water_streams0.at[self.stream22,'T'] #температура воды на выходе\n",
    "        Gsv_0 =water_streams0.at[self.stream21,'G'] #расход нагреваемого потока\n",
    "        self.KF=Gsv_0*self.Cp*n.log((tsp2_0-tsp2_in_0)/(tsp2_0-tw2_0))\n",
    "\n",
    "    def calc(self):\n",
    "        Gsv=water_streams.at[self.stream21,'G'] #расход нагреваемого потока\n",
    "        tw_out= water_streams.at[self.stream22,'T'] #температура воды на выходе\n",
    "        tw_in = water_streams.at[self.stream21,'T'] #температура холодного поткоа на входе\n",
    "        h_otb_sp= water_streams0.at[self.stream11,'H'] #температура воды на выходе\n",
    "        m=n.exp(-self.KF/Gsv/self.Cp)\n",
    "        \n",
    "        tsp=(tw_out-tw_in*m)/(1-m)\n",
    "        Nas_sp=water.t_q(tsp,0)\n",
    "        hsp_nas=Nas_sp['h']\n",
    "        p_sp=Nas_sp['P']\n",
    "        p_otb=p_sp/(1-self.dP)\n",
    "        Qsp=Gsv*self.Cp*(tw_out-tw_in)/KPD_SP/1000\n",
    "        Gotb=Qsp*1000/(h_otb_sp-hsp_nas)    \n",
    "        print(h_otb_sp)\n",
    "        return [p_otb,Gotb]\n",
    "    \n",
    "import pandas as pd   \n",
    "#таблица номинального режима\n",
    "gas_streams0   = pd.read_excel('streams0.xlsx', sheet_name='gas',  index_col=0)\n",
    "water_streams0 = pd.read_excel('streams0.xlsx', sheet_name='water',index_col=0)\n",
    "#таблица задаваемых значений (заменится на интерфейс)\n",
    "gas_streams    = pd.read_excel('streams.xlsx',  sheet_name='gas',  index_col=0)\n",
    "water_streams  = pd.read_excel('streams.xlsx',  sheet_name='water',index_col=0)\n",
    "\n",
    "calctolerance=10**-3\n",
    "calcmethod = \"hybr\"\n",
    "KPD_SP=0.99 #эффективность сетевых подогревателей\n",
    "RP = prop.init_REFPROP(r'C:\\Program Files (x86)\\REFPROP')\n",
    "water=prop.Materials_prop('water',[1.0,0,0,0,0], prop.REFPROP_h_s,prop.REFPROP_p_t,prop.REFPROP_p_h,prop.REFPROP_p_s,prop.REFPROP_p_q,prop.REFPROP_t_q,RP=RP)\n",
    "\n",
    "SP2 = SP2('OTB2-SP2','SP2-SP1','SP1-SP2','SP2-WOUT',    \n",
    "                    KPD_SP,calctolerance,water,calcmethod,water_streams0,water_streams)\n",
    "PPND_res=SP2.calc()    \n",
    "PPND_res"
   ]
  },
  {
   "cell_type": "code",
   "execution_count": 8,
   "id": "6c46a1ff-ccda-4f7d-83c5-95fb95eb9273",
   "metadata": {},
   "outputs": [],
   "source": [
    "#поверочный расчет СП1\n",
    "dP=5/100 # потеря давления в паропроводах\n",
    "Gsv=800\n",
    "tw_in=48\n",
    "tw_out\n",
    "KF=6000\n",
    "p_otb_sp=0.14\n",
    "h_otb_sp=2700\n",
    "p_sp1_0=(1-dP)*p_otb_sp\n",
    "m=n.exp(-KF/Gsv/Cp)"
   ]
  },
  {
   "cell_type": "code",
   "execution_count": 9,
   "id": "4ef9dbbd-1fe1-4548-8849-3ed0ae663090",
   "metadata": {},
   "outputs": [
    {
     "name": "stdout",
     "output_type": "stream",
     "text": [
      "2464.75601712861\n"
     ]
    },
    {
     "data": {
      "text/plain": [
       "[70.29564942694385, 35.523780484440394]"
      ]
     },
     "execution_count": 9,
     "metadata": {},
     "output_type": "execute_result"
    }
   ],
   "source": [
    "#делаю класс СП1 (верхний отбор по пару, второй по воде)\n",
    "\n",
    "import mat_properties as prop\n",
    "import numpy as n\n",
    "\n",
    "class SP1:\n",
    "    def __init__(self,stream11,stream12,stream21,stream22,stream111, KPD,calctolerance,water,calcmethod,water_streams0,water_streams):\n",
    "        self.KPD=KPD\n",
    "        self.water_streams0=water_streams0\n",
    "        self.gas_streams=gas_streams\n",
    "        self.water_streams=water_streams\n",
    "        self.calcmethod=calcmethod\n",
    "        self.calctolerance=calctolerance\n",
    "        self.stream11=stream11\n",
    "        self.stream21=stream21\n",
    "        self.stream12=stream12\n",
    "        self.stream22=stream22\n",
    "        self.stream111=stream111\n",
    "        self.Cp=4.187\n",
    "        self.dP=5/100\n",
    "        tsp1_0=water_streams0.at[self.stream12,'T'] #температура насыщения в номинале \n",
    "        tsp1_in_0 = water_streams0.at[self.stream21,'T'] #температура холодного потока на входе в номинале \n",
    "        tw1_0 = water_streams0.at[self.stream22,'T'] #температура воды на выходе\n",
    "        Gsv_0 =water_streams0.at[self.stream21,'G'] #расход нагреваемого потока\n",
    "        self.KF=Gsv_0*self.Cp*n.log((tsp1_0-tsp1_in_0)/(tsp1_0-tw1_0))\n",
    "\n",
    "    def calc(self):\n",
    "        Gsv=water_streams.at[self.stream21,'G'] #расход нагреваемого потока\n",
    "        tw_in = water_streams.at[self.stream21,'T'] #температура холодного поткоа на входе\n",
    "        h_otb_sp= water_streams0.at[self.stream11,'H'] #температура воды на выходе\n",
    "        p_otb_sp= water_streams0.at[self.stream11,'P'] #температура воды на выходе\n",
    "        h_nas_sp2= water_streams0.at[self.stream111,'H'] #температура воды на выходе\n",
    "        G_nas_sp2= water_streams0.at[self.stream111,'G'] #температура воды на выходе\n",
    "        m=n.exp(-self.KF/Gsv/self.Cp)\n",
    "        p_sp=p_otb_sp*(1-self.dP)\n",
    "        Nas_sp=water.p_q(p_sp,0)\n",
    "        t_sp=Nas_sp['T']\n",
    "        hsp_nas=Nas_sp['h']\n",
    "        tw_out=t_sp-(t_sp-tw_in)*m     \n",
    "        Qsp=Gsv*self.Cp*(tw_out-tw_in)/KPD_SP/1000\n",
    "        Gotb=(Qsp*1000-G_nas_sp2*(h_nas_sp2-hsp_nas))/(h_otb_sp-hsp_nas)    \n",
    "        print(h_otb_sp)\n",
    "        return [tw_out,Gotb]\n",
    "    \n",
    "import pandas as pd   \n",
    "#таблица номинального режима\n",
    "gas_streams0   = pd.read_excel('streams0.xlsx', sheet_name='gas',  index_col=0)\n",
    "water_streams0 = pd.read_excel('streams0.xlsx', sheet_name='water',index_col=0)\n",
    "#таблица задаваемых значений (заменится на интерфейс)\n",
    "gas_streams    = pd.read_excel('streams.xlsx',  sheet_name='gas',  index_col=0)\n",
    "water_streams  = pd.read_excel('streams.xlsx',  sheet_name='water',index_col=0)\n",
    "\n",
    "calctolerance=10**-3\n",
    "calcmethod = \"hybr\"\n",
    "KPD_SP=0.99 #эффективность сетевых подогревателей\n",
    "RP = prop.init_REFPROP(r'C:\\Program Files (x86)\\REFPROP')\n",
    "water=prop.Materials_prop('water',[1.0,0,0,0,0], prop.REFPROP_h_s,prop.REFPROP_p_t,prop.REFPROP_p_h,prop.REFPROP_p_s,prop.REFPROP_p_q,prop.REFPROP_t_q,RP=RP)\n",
    "\n",
    "SP1 = SP1('OTB1-SP1','SP1-OD','WIN-SP1','SP1-SP2','SP2-SP1',    \n",
    "                    KPD_SP,calctolerance,water,calcmethod,water_streams0,water_streams)\n",
    "PPND_res=SP1.calc()    \n",
    "PPND_res"
   ]
  },
  {
   "cell_type": "code",
   "execution_count": null,
   "id": "2e0561fb-f780-4adf-bfa5-3a8522635004",
   "metadata": {},
   "outputs": [],
   "source": []
  },
  {
   "cell_type": "code",
   "execution_count": null,
   "id": "baa24a0f-7d53-4ad1-9e03-858596871949",
   "metadata": {},
   "outputs": [],
   "source": []
  },
  {
   "cell_type": "code",
   "execution_count": null,
   "id": "6db77c31-5da9-43b8-b099-e06270e77e85",
   "metadata": {},
   "outputs": [],
   "source": []
  }
 ],
 "metadata": {
  "kernelspec": {
   "display_name": "Python 3 (ipykernel)",
   "language": "python",
   "name": "python3"
  },
  "language_info": {
   "codemirror_mode": {
    "name": "ipython",
    "version": 3
   },
   "file_extension": ".py",
   "mimetype": "text/x-python",
   "name": "python",
   "nbconvert_exporter": "python",
   "pygments_lexer": "ipython3",
   "version": "3.10.6"
  }
 },
 "nbformat": 4,
 "nbformat_minor": 5
}
