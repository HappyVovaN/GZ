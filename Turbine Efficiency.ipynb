{
 "cells": [
  {
   "cell_type": "code",
   "execution_count": null,
   "id": "404fa325-e7d1-4614-ac46-32de134268c0",
   "metadata": {},
   "outputs": [],
   "source": [
    "import mat_properties as prop\n",
    "\n",
    "RP = prop.init_REFPROP(r\"C:\\Program Files (x86)\\REFPROP\")\n",
    "\n",
    "water = prop.Materials_prop(\n",
    "    \"water\",\n",
    "    [1.0, 0, 0, 0, 0],\n",
    "    prop.REFPROP_h_s,\n",
    "    prop.REFPROP_p_t,\n",
    "    prop.REFPROP_p_h,\n",
    "    prop.REFPROP_p_s,\n",
    "    prop.REFPROP_p_q,\n",
    "    prop.REFPROP_t_q,\n",
    "    prop.REFPROP_p_rho,\n",
    "    RP=RP,\n",
    ")\n",
    "p1=5.6\n",
    "t1=490\n",
    "p2=0.7\n",
    "\n"
   ]
  }
 ],
 "metadata": {
  "kernelspec": {
   "display_name": "Python 3 (ipykernel)",
   "language": "python",
   "name": "python3"
  },
  "language_info": {
   "codemirror_mode": {
    "name": "ipython",
    "version": 3
   },
   "file_extension": ".py",
   "mimetype": "text/x-python",
   "name": "python",
   "nbconvert_exporter": "python",
   "pygments_lexer": "ipython3",
   "version": "3.10.6"
  }
 },
 "nbformat": 4,
 "nbformat_minor": 5
}
