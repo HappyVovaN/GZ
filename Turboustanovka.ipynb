{
 "cells": [
  {
   "cell_type": "code",
   "execution_count": 1,
   "id": "31a6dee2-fbd5-4f8c-90f1-1f7a59fc622d",
   "metadata": {},
   "outputs": [
    {
     "name": "stdout",
     "output_type": "stream",
     "text": [
      "168.90198985464173\n",
      "Error_all -0.0008175061000612038\n",
      "fin --- 0.0 сек. ---\n"
     ]
    },
    {
     "data": {
      "text/plain": [
       "{'SP1': {'tw_out': 105.39755376642144,\n",
       "  'Gotb': 48.651257898875414,\n",
       "  'Qw': 108.45564144508754},\n",
       " 'SP2': {'p_otb': 0.23996170225407717,\n",
       "  'Gotb': 22.87341551269421,\n",
       "  'Qw': 49.531147066248856},\n",
       " 'OD': {'tdr_out': 75.28024229830754,\n",
       "  'tod_out': 95.42319440365748,\n",
       "  'Qw': 10.916582138663644,\n",
       "  'epsilon': 0.858242846059917}}"
      ]
     },
     "execution_count": 1,
     "metadata": {},
     "output_type": "execute_result"
    }
   ],
   "source": [
    "import os\n",
    "import time\n",
    "import Turbine\n",
    "import SP\n",
    "import mat_properties as prop\n",
    "import numpy as n\n",
    "import pandas as pd\n",
    "\n",
    "RP = prop.init_REFPROP(r\"C:\\Program Files (x86)\\REFPROP\")\n",
    "\n",
    "water = prop.Materials_prop(\n",
    "    \"water\",\n",
    "    [1.0, 0, 0, 0, 0],\n",
    "    prop.REFPROP_h_s,\n",
    "    prop.REFPROP_p_t,\n",
    "    prop.REFPROP_p_h,\n",
    "    prop.REFPROP_p_s,\n",
    "    prop.REFPROP_p_q,\n",
    "    prop.REFPROP_t_q,\n",
    "    RP=RP,\n",
    ")\n",
    "\n",
    "# таблица номинального режима\n",
    "gas_streams0 = pd.read_excel(\"streams0.xlsx\", sheet_name=\"gas\", index_col=0)\n",
    "water_streams0 = pd.read_excel(\"streams0.xlsx\", sheet_name=\"water\", index_col=0)\n",
    "# таблица задаваемых значений (заменится на интерфейс)\n",
    "gas_streams = pd.read_excel(\"streams.xlsx\", sheet_name=\"gas\", index_col=0)\n",
    "water_streams = pd.read_excel(\"streams.xlsx\", sheet_name=\"water\", index_col=0)\n",
    "\n",
    "KPD_SP=0.99\n",
    "calctolerance=10**-3\n",
    "start_time = time.time()\n",
    "\n",
    "class turboustanovka()\n",
    "Tepl_systema = SP.teplofik_systema(\n",
    "    KPD_SP, water,  water_streams0, water_streams\n",
    ")\n",
    "\n",
    "\n",
    "\n",
    "Tepl_systema_res = Tepl_systema.calculate(maxiterations=20, calctolerance=10**-3)\n",
    "\n",
    "\n",
    "Turb = Turbine.turbine(water,\n",
    "    \"DROSVD-TURBVD\",\n",
    "    \"ENDOFVD\",\n",
    "    \"DROSND-TURBND\",\n",
    "    \"SMESHEND\",\n",
    "    \"DOOTB2\",\n",
    "    \"DOOTB1\",\n",
    "    \"INCND\",\n",
    "    \"INKOND\",\n",
    "    water_streams0,\n",
    "    water_streams,\n",
    ")\n",
    "\n",
    "start_time = time.time()\n",
    "\n",
    "res = Turb.calculate(diafragma=0, maxiterations=50, calctolerance=10**-3)\n",
    "\n",
    "print(\"fin:--- %s сек. ---\" % round((time.time() - start_time), 1))\n",
    "res"
   ]
  },
  {
   "cell_type": "code",
   "execution_count": null,
   "id": "6ad0e150-3d80-41a2-97f2-574a42ee912d",
   "metadata": {},
   "outputs": [],
   "source": []
  }
 ],
 "metadata": {
  "kernelspec": {
   "display_name": "Python 3 (ipykernel)",
   "language": "python",
   "name": "python3"
  },
  "language_info": {
   "codemirror_mode": {
    "name": "ipython",
    "version": 3
   },
   "file_extension": ".py",
   "mimetype": "text/x-python",
   "name": "python",
   "nbconvert_exporter": "python",
   "pygments_lexer": "ipython3",
   "version": "3.10.6"
  }
 },
 "nbformat": 4,
 "nbformat_minor": 5
}
