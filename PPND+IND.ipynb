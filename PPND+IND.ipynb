{
 "cells": [
  {
   "cell_type": "code",
   "execution_count": 2,
   "id": "3fbfb8df",
   "metadata": {
    "scrolled": false
   },
   "outputs": [
    {
     "name": "stdout",
     "output_type": "stream",
     "text": [
      "dQ/Q ППНД+ИНД 0.00023727306706365658\n",
      "dQ/Q ППНД+ИНД -4.544370086131539e-06\n"
     ]
    }
   ],
   "source": [
    "import os\n",
    "import mat_properties as prop\n",
    "import numpy as n\n",
    "import pandas as pd\n",
    "import cotel\n",
    "import nasos\n",
    "import time\n",
    "from scipy.optimize import root\n",
    "\n",
    "#Время начала расчёта\n",
    "start_time = time.time()\n",
    "\n",
    "#Основные константы\n",
    "calctolerance=10**-5\n",
    "calcmethod = \"hybr\"\n",
    "KPDnasos = 0.9\n",
    "KPD=0.99\n",
    "\n",
    "#???\n",
    "RP = prop.init_REFPROP(r'C:\\Program Files (x86)\\REFPROP')\n",
    "os.environ['RPPREFIX'] = r'C:/Program Files (x86)/REFPROP'\n",
    "\n",
    "#Импорт таблиц номинального режима и частичной нагрузки\n",
    "gas_streams0   = pd.read_excel('streams0.xlsx', sheet_name='gas',  index_col=0)\n",
    "water_streams0 = pd.read_excel('streams0.xlsx', sheet_name='water',index_col=0)\n",
    "gas_streams    = pd.read_excel('streams1.xlsx',  sheet_name='gas',  index_col=0)\n",
    "water_streams  = pd.read_excel('streams1.xlsx',  sheet_name='water',index_col=0)\n",
    "\n",
    "#Состав газов в номинальном режиме и в частичной нагрузке\n",
    "gasmix = \"Nitrogen*Oxygen*CO2*Water*Argon\"\n",
    "fractiongas0 = (gas_streams0.at['GTU-PEVD','N2'],gas_streams0.at['GTU-PEVD','O2'],gas_streams0.at['GTU-PEVD','CO2'],gas_streams0.at['GTU-PEVD','H2O'],gas_streams0.at['GTU-PEVD','Ar'])\n",
    "fractiongas  = (gas_streams.at['GTU-PEVD','N2'],gas_streams.at['GTU-PEVD','O2'],gas_streams.at['GTU-PEVD','CO2'],gas_streams.at['GTU-PEVD','H2O'],gas_streams.at['GTU-PEVD','Ar'])\n",
    "\n",
    "#???\n",
    "gas1 = prop.Materials_prop(gasmix,fractiongas, prop.REFPROP_h_s,prop.REFPROP_p_t,prop.REFPROP_p_h,prop.REFPROP_p_s,prop.REFPROP_p_q,prop.REFPROP_t_q,RP=RP)\n",
    "gas0 = prop.Materials_prop(gasmix,fractiongas0, prop.REFPROP_h_s,prop.REFPROP_p_t,prop.REFPROP_p_h,prop.REFPROP_p_s,prop.REFPROP_p_q,prop.REFPROP_t_q,RP=RP)\n",
    "water=prop.Materials_prop('water',[1.0,0,0,0,0], prop.REFPROP_h_s,prop.REFPROP_p_t,prop.REFPROP_p_h,prop.REFPROP_p_s,prop.REFPROP_p_q,prop.REFPROP_t_q,RP=RP)\n",
    "\n",
    "\n",
    "# ######################################################################\n",
    "# #Связвка высокого давления\n",
    "# for j in range(it):\n",
    "#     for i in range(it):\n",
    "#         PEVD = cotel.heatex('GTU-PEVD','PEVD-IVD','IVD-PEVD','PEVD-DROS',       KPD,calctolerance,gas0,gas1,water,calcmethod,gas_streams0,water_streams0,gas_streams,water_streams).calc()\n",
    "#         gas_streams.loc['PEVD-IVD','T':'G'] = [PEVD[0],PEVD[1],PEVD[2],PEVD[3]]\n",
    "#         water_streams.loc['PEVD-DROS','T':'G'] = [PEVD[4],PEVD[5],PEVD[6],PEVD[7]]\n",
    "#         IVD  = cotel.vapor ('PEVD-IVD','IVD-EVD','EVD-IVD','IVD-PEVD',           KPD,calctolerance,gas1,gas0,water,calcmethod,gas_streams0,water_streams0,gas_streams,water_streams).calc()\n",
    "#         gas_streams.loc['IVD-EVD','T':'G'] = [IVD[0],IVD[1],IVD[2],IVD[3]]\n",
    "#         water_streams.loc['IVD-PEVD','T':'G'] = [IVD[4],IVD[5],IVD[6],IVD[7]]\n",
    "#         water_streams.loc['PEVD-DROS':'PEN-EVD','G'] = IVD[7]\n",
    "#         Qgas = KPD*gas_streams.at['GTU-PEVD','G']*(gas_streams.at['GTU-PEVD','H']-gas_streams.at['PEVD-IVD','H'])\n",
    "#         Qwat = water_streams.at['PEVD-DROS','G']*(water_streams.at['PEVD-DROS','H']-water_streams.at['IVD-PEVD','H'])\n",
    "#         print('dQ/Q ПЕВД+ИВД',((Qgas-Qwat)/Qgas))\n",
    "#         if  abs((Qgas-Qwat)/Qgas) < calctolerance:\n",
    "#             break;\n",
    "#     EVD = cotel.heatex('IVD-EVD','EVD-PPND','PEN-EVD','EVD-IVD',               KPD,calctolerance,gas0,gas1,water,calcmethod,gas_streams0,water_streams0,gas_streams,water_streams).calc()\n",
    "#     gas_streams.loc['EVD-PPND','T':'G'] = [EVD[0],EVD[1],EVD[2],EVD[3]]\n",
    "#     water_streams.loc['EVD-IVD','T':'G'] = [EVD[4],EVD[5],EVD[6],EVD[7]]\n",
    "\n",
    "#     Qgas1 = KPD*gas_streams.at['GTU-PEVD','G']*(gas_streams.at['GTU-PEVD','H']-gas_streams.at['IVD-EVD','H'])\n",
    "#     Qwat1 = water_streams.at['PEVD-DROS','G']*(water_streams.at['PEVD-DROS','H']-water_streams.at['EVD-IVD','H'])\n",
    "#     print('dQ/Q ПЕВД+ИВД+ЭВД',((Qgas1-Qwat1)/Qgas1))\n",
    "#     if  abs((Qgas1-Qwat1)/Qgas1) < calctolerance:\n",
    "#         break;\n",
    "# print('Степень сухости пара в ЭВД: ',water.p_h(water_streams.at['EVD-IVD','P'],water_streams.at['EVD-IVD','H'])['Q'])\n",
    "# print(\"ВД:--- %s сек. ---\" % round((time.time() - start_time)))\n",
    "# ######################################################################\n",
    "\n",
    "\n",
    "it=50\n",
    "for i in range(it):\n",
    "    PPND = cotel.heatex('EVD-PPND','PPND-IND','IND-PPND','PPND-TURB',    KPD,calctolerance,gas0,gas1,water,calcmethod,gas_streams0,water_streams0,gas_streams,water_streams).calc()\n",
    "    gas_streams.loc['PPND-IND','T':'G']    = [PPND[0],PPND[1],PPND[2],PPND[3]]\n",
    "    water_streams.loc['PPND-TURB','T':'G'] = [PPND[4],PPND[5],PPND[6],PPND[7]]\n",
    "#     Qgas1 = KPD*gas_streams.at['EVD-PPND','G']*(gas_streams.at['EVD-PPND','H']-gas_streams.at['PPND-IND','H']) \n",
    "#     Qwat1 = water_streams.at['PPND-TURB','G']*(water_streams.at['PPND-TURB','H']-water_streams.at['IND-PPND','H'])\n",
    "#     print('ppnd',Qgas1,Qwat1)\n",
    "    IND  = cotel.vaporND('PPND-IND','IND-GPK','GPK-IND','IND-PPND',      KPD,calctolerance,gas1,gas0,water,calcmethod,gas_streams0,water_streams0,gas_streams,water_streams).calc()\n",
    "    gas_streams.loc['IND-GPK','T':'G']    = [IND[0],IND[1],IND[2],IND[3]]\n",
    "    water_streams.loc['IND-PPND','T':'G'] = [IND[4],IND[5],IND[6],IND[7]]\n",
    "    water_streams.loc['BND-PEN','T':'G'] = [IND[9],IND[10],IND[11],IND[12]]\n",
    "    water_streams.loc['PPND-TURB':'IND-PPND','G'] = IND[7]\n",
    "#     Qgas2 = KPD*gas_streams.at['PPND-IND','G']*(gas_streams.at['PPND-IND','H']-gas_streams.at['IND-GPK','H'])\n",
    "#     Qwat2 = water_streams.at['IND-PPND','G']*(water_streams.at['IND-PPND','H']-water_streams.at['GPK-IND','H'])+water_streams.at['BND-PEN','G']*(water_streams.at['BND-PEN','H']-water_streams.at['GPK-IND','H'])\n",
    "#     print(Qgas2,Qwat2)\n",
    "    Qgas = KPD*gas_streams.at['EVD-PPND','G']*(gas_streams.at['EVD-PPND','H']-gas_streams.at['IND-GPK','H'])\n",
    "    Qwat = water_streams.at['IND-PPND','G']*(water_streams.at['IND-PPND','H']-water_streams.at['GPK-IND','H'])+water_streams.at['PPND-TURB','G']*(water_streams.at['PPND-TURB','H']-water_streams.at['IND-PPND','H'])+water_streams.at['BND-PEN','G']*(water_streams.at['BND-PEN','H']-water_streams.at['GPK-IND','H'])\n",
    "#     print(Qgas-Qwat)\n",
    "    \n",
    "    \n",
    "    \n",
    "    print('dQ/Q ППНД+ИНД',(Qgas-Qwat)/Qgas)\n",
    "    if  abs((Qgas-Qwat)/Qgas) < calctolerance:\n",
    "        break;\n",
    "\n"
   ]
  },
  {
   "cell_type": "code",
   "execution_count": null,
   "id": "81b6062d",
   "metadata": {},
   "outputs": [],
   "source": [
    "gas_streams"
   ]
  },
  {
   "cell_type": "code",
   "execution_count": null,
   "id": "d4387256",
   "metadata": {},
   "outputs": [],
   "source": [
    "water_streams"
   ]
  },
  {
   "cell_type": "code",
   "execution_count": null,
   "id": "c0b37397",
   "metadata": {},
   "outputs": [],
   "source": []
  }
 ],
 "metadata": {
  "kernelspec": {
   "display_name": "Python 3 (ipykernel)",
   "language": "python",
   "name": "python3"
  },
  "language_info": {
   "codemirror_mode": {
    "name": "ipython",
    "version": 3
   },
   "file_extension": ".py",
   "mimetype": "text/x-python",
   "name": "python",
   "nbconvert_exporter": "python",
   "pygments_lexer": "ipython3",
   "version": "3.8.0"
  }
 },
 "nbformat": 4,
 "nbformat_minor": 5
}
