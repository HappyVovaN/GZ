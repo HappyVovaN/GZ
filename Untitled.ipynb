{
 "cells": [
  {
   "cell_type": "code",
   "execution_count": 1,
   "id": "65ce7391",
   "metadata": {},
   "outputs": [
    {
     "ename": "TypeError",
     "evalue": "'module' object is not callable",
     "output_type": "error",
     "traceback": [
      "\u001b[1;31m---------------------------------------------------------------------------\u001b[0m",
      "\u001b[1;31mTypeError\u001b[0m                                 Traceback (most recent call last)",
      "Input \u001b[1;32mIn [1]\u001b[0m, in \u001b[0;36m<cell line: 23>\u001b[1;34m()\u001b[0m\n\u001b[0;32m     19\u001b[0m \u001b[38;5;66;03m#Таблица частичной нагрузки (входные данные)\u001b[39;00m\n\u001b[0;32m     20\u001b[0m water_streams  \u001b[38;5;241m=\u001b[39m pd\u001b[38;5;241m.\u001b[39mread_excel(\u001b[38;5;124m'\u001b[39m\u001b[38;5;124mstreams.xlsx\u001b[39m\u001b[38;5;124m'\u001b[39m,  sheet_name\u001b[38;5;241m=\u001b[39m\u001b[38;5;124m'\u001b[39m\u001b[38;5;124mwater\u001b[39m\u001b[38;5;124m'\u001b[39m,index_col\u001b[38;5;241m=\u001b[39m\u001b[38;5;241m0\u001b[39m)\n\u001b[1;32m---> 23\u001b[0m a\u001b[38;5;241m=\u001b[39m\u001b[43mnasos\u001b[49m\u001b[43m(\u001b[49m\u001b[43mwater\u001b[49m\u001b[43m,\u001b[49m\u001b[43mKPDnasos\u001b[49m\u001b[43m,\u001b[49m\u001b[38;5;124;43m'\u001b[39;49m\u001b[38;5;124;43mBND-PEN\u001b[39;49m\u001b[38;5;124;43m'\u001b[39;49m\u001b[43m,\u001b[49m\u001b[38;5;124;43m'\u001b[39;49m\u001b[38;5;124;43mPEN-EVD\u001b[39;49m\u001b[38;5;124;43m'\u001b[39;49m\u001b[43m)\u001b[49m\u001b[38;5;241m.\u001b[39mcalc()\n\u001b[0;32m     24\u001b[0m \u001b[38;5;28mprint\u001b[39m(a)\n",
      "\u001b[1;31mTypeError\u001b[0m: 'module' object is not callable"
     ]
    }
   ],
   "source": [
    "import mat_properties as prop\n",
    "import pandas as pd\n",
    "\n",
    "import nasos\n",
    "\n",
    "RP = prop.init_REFPROP(r'C:\\Program Files (x86)\\REFPROP')\n",
    "\n",
    "\n",
    "KPDnasos = 0.9\n",
    "\n",
    "water=prop.Materials_prop('water',[1.0,0,0,0,0], prop.REFPROP_h_s,\n",
    "                                              prop.REFPROP_p_t,\n",
    "                                              prop.REFPROP_p_h,\n",
    "                                              prop.REFPROP_p_s,\n",
    "                                              prop.REFPROP_p_q,\n",
    "                                              prop.REFPROP_t_q,\n",
    "                                              RP=RP)\n",
    "\n",
    "#Таблица частичной нагрузки (входные данные)\n",
    "water_streams  = pd.read_excel('streams.xlsx',  sheet_name='water',index_col=0)\n",
    "\n",
    "\n",
    "a=nasos(water,KPDnasos,'BND-PEN','PEN-EVD').calc()\n",
    "print(a)"
   ]
  },
  {
   "cell_type": "code",
   "execution_count": null,
   "id": "e2104e69",
   "metadata": {},
   "outputs": [],
   "source": []
  }
 ],
 "metadata": {
  "kernelspec": {
   "display_name": "Python 3 (ipykernel)",
   "language": "python",
   "name": "python3"
  },
  "language_info": {
   "codemirror_mode": {
    "name": "ipython",
    "version": 3
   },
   "file_extension": ".py",
   "mimetype": "text/x-python",
   "name": "python",
   "nbconvert_exporter": "python",
   "pygments_lexer": "ipython3",
   "version": "3.8.0"
  }
 },
 "nbformat": 4,
 "nbformat_minor": 5
}
