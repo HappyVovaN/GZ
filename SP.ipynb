{
 "cells": [
  {
   "cell_type": "code",
   "execution_count": 2,
   "id": "48ba8dcc-8c55-4daa-aabe-ad6db8745646",
   "metadata": {},
   "outputs": [
    {
     "data": {
      "text/plain": [
       "2622.549646496256"
      ]
     },
     "execution_count": 2,
     "metadata": {},
     "output_type": "execute_result"
    }
   ],
   "source": [
    "\n",
    "import mat_properties as prop\n",
    "RP = prop.init_REFPROP(r'C:\\Program Files (x86)\\REFPROP')\n",
    "\n",
    "water=prop.Materials_prop('water',[1.0,0,0,0,0], prop.REFPROP_h_s,prop.REFPROP_p_t,prop.REFPROP_p_h,prop.REFPROP_p_s,prop.REFPROP_p_q,prop.REFPROP_t_q,RP=RP)\n",
    "\n",
    "#расчетный режим\n",
    "Cp=4.187\n",
    "Psv=1 #давление сетевой воды\n",
    "Qsp2_0=64.062*Cp/3.6 #нагрузка ПСГ-2 (расчетная точка)\n",
    "Qsp1_0=82.397*Cp/3.6 #нагрузка ПСГ-1 (расчетная точка)\n",
    "Qod_0=6.81*Cp/3.6 #нагрузка охладителя дренажа (расчетная точка)\n",
    "t_0=-3.1 #температура расчетная наружного воздуха\n",
    "tw2_0=98.56 #температура прямой сетевой воды (расчетная точка)\n",
    "tw1_0=46 #температура обратной сетевой воды (расчетная точка)\n",
    "Gsv_0=2886/3.6 #расход сетевой воды (расчетная точка)\n",
    "KPD_SP=0.99 #эффективность сетевых подогревателей\n",
    "Gsp2_0=157.44/3.6 #расход пара в ПСГ-2 (расчетная точка)\n",
    "Gsp1_0=115.71/3.6 #расход пара в ПСГ-1 (расчетная точка)\n",
    "tsp2_0=107.6 #температура пара в отборе на ПСГ-2 (расчетная точка)\n",
    "tsp1_0=76 #температура пара в отборе на ПСГ-1 (расчетная точка)\n",
    "ysp2_0=2.9/100 #доля влаги в  отборе на ПСГ-2 (расчетная точка)\n",
    "ysp1_0=7.4/100 #доля влаги в  отборе на ПСГ-1 (расчетная точка)\n",
    "Qw=Gsv_0*Cp*(tw2_0-tw1_0)/1000\n",
    "Qw\n",
    "Otb_sp2=water.t_q(tsp2_0,1-ysp2_0)\n",
    "Otb_sp2['h']\n"
   ]
  },
  {
   "cell_type": "code",
   "execution_count": 3,
   "id": "7e264cae-9960-41c4-9bbf-c24910064c4f",
   "metadata": {},
   "outputs": [
    {
     "data": {
      "text/plain": [
       "178.26036194444447"
      ]
     },
     "execution_count": 3,
     "metadata": {},
     "output_type": "execute_result"
    }
   ],
   "source": [
    "Qsp1_0+Qsp2_0+Qod_0"
   ]
  },
  {
   "cell_type": "code",
   "execution_count": 17,
   "id": "1f3233a6-1e84-477d-b68c-8fd69b88b8e0",
   "metadata": {},
   "outputs": [
    {
     "data": {
      "text/plain": [
       "0.9896858464529683"
      ]
     },
     "execution_count": 17,
     "metadata": {},
     "output_type": "execute_result"
    }
   ],
   "source": [
    "n=Qw/(Qsp1_0+Qsp2_0+Qod_0)\n",
    "n"
   ]
  },
  {
   "cell_type": "code",
   "execution_count": null,
   "id": "812d45aa-90a0-4bdc-a3fa-412e7a228ed4",
   "metadata": {},
   "outputs": [],
   "source": []
  }
 ],
 "metadata": {
  "kernelspec": {
   "display_name": "Python 3 (ipykernel)",
   "language": "python",
   "name": "python3"
  },
  "language_info": {
   "codemirror_mode": {
    "name": "ipython",
    "version": 3
   },
   "file_extension": ".py",
   "mimetype": "text/x-python",
   "name": "python",
   "nbconvert_exporter": "python",
   "pygments_lexer": "ipython3",
   "version": "3.10.6"
  }
 },
 "nbformat": 4,
 "nbformat_minor": 5
}
